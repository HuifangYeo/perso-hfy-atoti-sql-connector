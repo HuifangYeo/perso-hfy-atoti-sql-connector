{
 "cells": [
  {
   "cell_type": "code",
   "execution_count": 1,
   "id": "e3e1e0a2-eb57-4520-8505-3868ca2e71b1",
   "metadata": {},
   "outputs": [],
   "source": [
    "import atoti as tt"
   ]
  },
  {
   "cell_type": "markdown",
   "id": "a998a4e7-1f8e-446f-8070-962541738211",
   "metadata": {},
   "source": [
    "### Configuring session to connect to an LDAP authentication provider.\n",
    "\n",
    "Refer to [atoti documentation](https://docs.atoti.io/latest/lib/atoti.config.authentication.ldap.html#atoti.config.authentication.ldap.LdapConfig) on the parameter of the LDAP configurations used below.  \n",
    "\n",
    "The LDAP roles `ADMIN`, `USER`, `USA` and `EUROPE` are mapped the roles available in Atoti+ (`ROLE_ADMIN`, `ROLE_USER`, `ROLE_MARKET_EU`, `ROLE_MARKET_US` etc)."
   ]
  },
  {
   "cell_type": "code",
   "execution_count": null,
   "id": "111b29c9-0524-45df-a12d-f9a834834ed7",
   "metadata": {},
   "outputs": [],
   "source": [
    "session_config = {\"port\": 9090}\n",
    "\n",
    "session_config[\"authentication\"] = {\n",
    "    \"ldap\": {\n",
    "        \"url\": \"ldap://localhost:10389/\",\n",
    "        \"base_dn\": \"dc=example,dc=com\",\n",
    "        \"user_search_base\": \"ou=people\",\n",
    "        \"group_search_base\": \"ou=roles\",\n",
    "        \"role_mapping\": {\n",
    "            \"ADMIN\": [\"ROLE_ADMIN\"],\n",
    "            \"USER\": [\"ROLE_USER\"],\n",
    "            \"EUROPE\": [\"ROLE_EU_FR\", \"ROLE_EU_DE\", \"ROLE_MARKET_EU\"],\n",
    "            \"USA\": [\"ROLE_US_CA\", \"ROLE_MARKET_US\"],\n",
    "        },\n",
    "    }\n",
    "}"
   ]
  },
  {
   "cell_type": "code",
   "execution_count": null,
   "id": "414515ba-6b2b-4336-839e-f948edb3eea2",
   "metadata": {},
   "outputs": [],
   "source": [
    "session = tt.create_session(name=\"Sales\", config=session_config)"
   ]
  },
  {
   "cell_type": "markdown",
   "id": "f41e172b-0b75-4f21-a4b1-b2b092a55ca6",
   "metadata": {},
   "source": [
    "### Configure role based restrictions on data  \n",
    "\n",
    "We can control the type of data that each user role can access. The below setup means that users with the given role can only access data within the restrictions listed below."
   ]
  },
  {
   "cell_type": "code",
   "execution_count": null,
   "id": "c2f83ace-28e3-4fe5-8e75-b0c853e4a410",
   "metadata": {},
   "outputs": [],
   "source": [
    "session.security.create_role(\n",
    "    \"ROLE_EU_FR\",\n",
    "    restrictions={\n",
    "        \"HOSPITAL_ID\": [\n",
    "            \"FR_HOSP_1\",\n",
    "            \"FR_HOSP_2\",\n",
    "            \"FR_HOSP_3\",\n",
    "            \"FR_HOSP_4\",\n",
    "            \"FR_HOSP_5\",\n",
    "            \"FR_HOSP_6\",\n",
    "            \"FR_HOSP_7\",\n",
    "            \"FR_HOSP_8\",\n",
    "            \"FR_HOSP_9\",\n",
    "            \"FR_HOSP_10\",\n",
    "        ]\n",
    "    },\n",
    ")\n",
    "\n",
    "session.security.create_role(\n",
    "    \"ROLE_EU_DE\",\n",
    "    restrictions={\n",
    "        \"HOSPITAL_ID\": [\n",
    "            \"DE_HOSP_1\",\n",
    "            \"DE_HOSP_2\",\n",
    "            \"DE_HOSP_3\",\n",
    "            \"DE_HOSP_4\",\n",
    "            \"DE_HOSP_5\",\n",
    "            \"DE_HOSP_6\",\n",
    "            \"DE_HOSP_7\",\n",
    "            \"DE_HOSP_8\",\n",
    "            \"DE_HOSP_9\",\n",
    "            \"DE_HOSP_10\",\n",
    "        ]\n",
    "    },\n",
    ")\n",
    "\n",
    "session.security.create_role(\n",
    "    \"ROLE_MARKET_EU\", restrictions={\"COUNTRY\": [\"FRANCE\", \"GERMANY\"]}\n",
    ")\n",
    "\n",
    "session.security.create_role(\"ROLE_MARKET_US\", restrictions={\"COUNTRY\": [\"USA\"]})"
   ]
  },
  {
   "cell_type": "markdown",
   "id": "438c6ae3-770c-4de9-9ae0-e7f958052725",
   "metadata": {},
   "source": [
    "The rest of the cube implementation is the same as shown in [02_main_mssql_realtime.ipynb](02_main_mssql_realtime.ipynb)."
   ]
  },
  {
   "cell_type": "code",
   "execution_count": null,
   "id": "f58f54a8-c04b-452a-b924-5c9bdfabc369",
   "metadata": {},
   "outputs": [],
   "source": []
  }
 ],
 "metadata": {
  "kernelspec": {
   "display_name": "Python 3 (ipykernel)",
   "language": "python",
   "name": "python3"
  },
  "language_info": {
   "codemirror_mode": {
    "name": "ipython",
    "version": 3
   },
   "file_extension": ".py",
   "mimetype": "text/x-python",
   "name": "python",
   "nbconvert_exporter": "python",
   "pygments_lexer": "ipython3",
   "version": "3.9.7"
  }
 },
 "nbformat": 4,
 "nbformat_minor": 5
}
